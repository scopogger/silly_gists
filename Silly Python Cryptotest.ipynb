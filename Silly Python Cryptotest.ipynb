{
  "nbformat": 4,
  "nbformat_minor": 0,
  "metadata": {
    "colab": {
      "provenance": [],
      "collapsed_sections": [],
      "authorship_tag": "ABX9TyOUplB5juX7o0T3lRsWCA1F",
      "include_colab_link": true
    },
    "kernelspec": {
      "name": "python3",
      "display_name": "Python 3"
    },
    "language_info": {
      "name": "python"
    }
  },
  "cells": [
    {
      "cell_type": "markdown",
      "metadata": {
        "id": "view-in-github",
        "colab_type": "text"
      },
      "source": [
        "<a href=\"https://colab.research.google.com/github/scopogger/silly_gists/blob/main/Silly%20Python%20Cryptotest.ipynb\" target=\"_parent\"><img src=\"https://colab.research.google.com/assets/colab-badge.svg\" alt=\"Open In Colab\"/></a>"
      ]
    },
    {
      "cell_type": "code",
      "execution_count": 9,
      "metadata": {
        "colab": {
          "base_uri": "https://localhost:8080/"
        },
        "id": "EKtUA09OG0ob",
        "outputId": "c8ef4674-bfa0-4a32-d010-23f89536f8c8"
      },
      "outputs": [
        {
          "output_type": "stream",
          "name": "stdout",
          "text": [
            "3\n"
          ]
        }
      ],
      "source": [
        "a = 1 + 2\n",
        "print(f\"{a}\")"
      ]
    },
    {
      "cell_type": "code",
      "source": [
        "my_money = 1234"
      ],
      "metadata": {
        "id": "l-22furkHWjk"
      },
      "execution_count": 10,
      "outputs": []
    },
    {
      "cell_type": "code",
      "source": [
        "usd_rub_rate = 50.01\n",
        "my_money_usd = int(my_money / usd_rub_rate)\n",
        "print(f\"У меня {my_money_usd} долларов\")"
      ],
      "metadata": {
        "colab": {
          "base_uri": "https://localhost:8080/"
        },
        "id": "bpi6FpckHMjv",
        "outputId": "f25ebd6a-0678-43ed-e1e3-489ef17c385c"
      },
      "execution_count": 11,
      "outputs": [
        {
          "output_type": "stream",
          "name": "stdout",
          "text": [
            "У меня 24 долларов\n"
          ]
        }
      ]
    },
    {
      "cell_type": "code",
      "source": [
        "income = [10000, 500, 12345, 9000] # Список, все поступления на счёт\n",
        "Balance = sum(income)\n",
        "Count = len(income)\n",
        "print(f\"На мой счёт было {Count} поступлений. Мой баланс {Balance}\")\n",
        "print(f\"Последнее = {income[-1]}\")\n",
        "print(f\"{income[:2]}\") # Все элементы начиная со второго"
      ],
      "metadata": {
        "colab": {
          "base_uri": "https://localhost:8080/"
        },
        "id": "7nSxEnCWIEyv",
        "outputId": "a3f02b86-014e-4150-9604-bdfcd254d15a"
      },
      "execution_count": 12,
      "outputs": [
        {
          "output_type": "stream",
          "name": "stdout",
          "text": [
            "На мой счёт было 4 поступлений. Мой баланс 31845\n",
            "Последнее = 9000\n",
            "[10000, 500]\n"
          ]
        }
      ]
    },
    {
      "cell_type": "code",
      "source": [
        "iphone_price = 120000\n",
        "coffee_price = 50\n",
        "if Balance > iphone_price:\n",
        "  print(\"Я могу купить Айфон\")\n",
        "else:\n",
        "  print(\"Я НЕ могу купить Айфон\")\n",
        "\n",
        "if Balance > coffee_price:\n",
        "  print(f\"Я могу купить Кофе. Куплю себе {int(Balance / coffee_price)} чашек\")\n",
        "else:\n",
        "  print(\"Я НЕ могу купить Кофе\")"
      ],
      "metadata": {
        "colab": {
          "base_uri": "https://localhost:8080/"
        },
        "id": "VRp2fCCAIeC_",
        "outputId": "5fd00507-7d01-45f8-8394-59a87702bd6f"
      },
      "execution_count": 13,
      "outputs": [
        {
          "output_type": "stream",
          "name": "stdout",
          "text": [
            "Я НЕ могу купить Айфон\n",
            "Я могу купить Кофе. Куплю себе 636 чашек\n"
          ]
        }
      ]
    },
    {
      "cell_type": "code",
      "source": [
        "import hashlib # Импортируем модуль с хэш-функциями\n",
        "# Словарь\n",
        "my_account = {\n",
        "    \"name\" : \"Mike\",\n",
        "    \"balance\" : Balance,\n",
        "    \"open_date\" : \"12-05-2006\"\n",
        "}\n",
        "\n",
        "my_account"
      ],
      "metadata": {
        "colab": {
          "base_uri": "https://localhost:8080/"
        },
        "id": "muJDT1i8JyAI",
        "outputId": "55b0b18a-e653-44e1-cddf-0455a6abec1e"
      },
      "execution_count": 14,
      "outputs": [
        {
          "output_type": "execute_result",
          "data": {
            "text/plain": [
              "{'name': 'Mike', 'balance': 31845, 'open_date': '12-05-2006'}"
            ]
          },
          "metadata": {},
          "execution_count": 14
        }
      ]
    },
    {
      "cell_type": "code",
      "source": [
        "my_account[\"name\"]"
      ],
      "metadata": {
        "colab": {
          "base_uri": "https://localhost:8080/",
          "height": 35
        },
        "id": "CJAR-uG3KVk_",
        "outputId": "12268713-c504-40cb-f52c-e41374fcd4bc"
      },
      "execution_count": 15,
      "outputs": [
        {
          "output_type": "execute_result",
          "data": {
            "text/plain": [
              "'Mike'"
            ],
            "application/vnd.google.colaboratory.intrinsic+json": {
              "type": "string"
            }
          },
          "metadata": {},
          "execution_count": 15
        }
      ]
    },
    {
      "cell_type": "code",
      "source": [
        "text = \"Приветик\"\n",
        "binary = text.encode() # приводим строку к бинарному представлению\n",
        "hashlib.sha256(binary).hexdigest() # Считаем хэш"
      ],
      "metadata": {
        "colab": {
          "base_uri": "https://localhost:8080/",
          "height": 35
        },
        "id": "m3FZYxIMKcB1",
        "outputId": "3a7c69c7-fe7c-4799-8b30-db29ed8fc6db"
      },
      "execution_count": 16,
      "outputs": [
        {
          "output_type": "execute_result",
          "data": {
            "text/plain": [
              "'e329b8d135d5b24e572d4419432811744908d6859123d6a7d1b88ed39043184a'"
            ],
            "application/vnd.google.colaboratory.intrinsic+json": {
              "type": "string"
            }
          },
          "metadata": {},
          "execution_count": 16
        }
      ]
    },
    {
      "cell_type": "code",
      "source": [
        "import json"
      ],
      "metadata": {
        "id": "VoxTkUMgK_Ng"
      },
      "execution_count": 17,
      "outputs": []
    },
    {
      "cell_type": "code",
      "source": [
        "def dataToHash(data):\n",
        "  json_data = json.dumps(data, sort_keys = True) # Приводим словарь к строке json\n",
        "  binary_data = json_data.encode() # приводим строку к бинарному представлению\n",
        "  return hashlib.sha256(binary_data).hexdigest()[:10] # Считаем хэш (сложной струтуры данных), первые 10 символа (или поставь меньше, чтобы было ваще убийственно ненадёжно)"
      ],
      "metadata": {
        "id": "2zexgZp1LESL"
      },
      "execution_count": 18,
      "outputs": []
    },
    {
      "cell_type": "code",
      "source": [
        "dataToHash(my_account)"
      ],
      "metadata": {
        "colab": {
          "base_uri": "https://localhost:8080/",
          "height": 35
        },
        "id": "KrAkqqZg3Wvq",
        "outputId": "2822ba96-684c-409a-860e-8317c61f7247"
      },
      "execution_count": 19,
      "outputs": [
        {
          "output_type": "execute_result",
          "data": {
            "text/plain": [
              "'3bbb8e6412'"
            ],
            "application/vnd.google.colaboratory.intrinsic+json": {
              "type": "string"
            }
          },
          "metadata": {},
          "execution_count": 19
        }
      ]
    },
    {
      "cell_type": "markdown",
      "source": [
        "# Blockchain"
      ],
      "metadata": {
        "id": "O6GAB0Bs30A9"
      }
    },
    {
      "cell_type": "code",
      "source": [
        "blockchain = [\n",
        "    {\n",
        "        \"from\": \"\",\n",
        "        \"to\": \"\",\n",
        "        \"amount\": 0.0\n",
        "        # \"prevHash\": \"\"\n",
        "    }\n",
        "] # Блокчейн = список транзакций\n",
        "\n",
        "def addNewBlock(account_from, account_to, amount): # добавление блока/записи\n",
        "  prev_block = blockchain[-1] # Последний блок в блокчейне\n",
        "  prev_hash = dataToHash(prev_block)\n",
        "\n",
        "  block = {\n",
        "        \"from\": account_from,\n",
        "        \"to\": account_to,\n",
        "        \"amount\": amount,\n",
        "        \"prev_hash\": prev_hash\n",
        "  }\n",
        "  blockchain.append(block)"
      ],
      "metadata": {
        "id": "ejhXVpjZ36dh"
      },
      "execution_count": 20,
      "outputs": []
    },
    {
      "cell_type": "code",
      "source": [
        "addNewBlock(\"Mike\", \"Vasya\", 2000)\n",
        "addNewBlock(\"Mike\", \"Petya\", 14)\n",
        "addNewBlock(\"Mike\", \"Kolya\", 88)\n",
        "addNewBlock(\"Mike\", \"Nastya\", 69420)\n",
        "# blockchain.clear()\n",
        "blockchain"
      ],
      "metadata": {
        "colab": {
          "base_uri": "https://localhost:8080/"
        },
        "id": "fP6F-zaj5Yna",
        "outputId": "4c14c198-fcd6-460e-a886-60dfb729d140"
      },
      "execution_count": 21,
      "outputs": [
        {
          "output_type": "execute_result",
          "data": {
            "text/plain": [
              "[{'from': '', 'to': '', 'amount': 0.0},\n",
              " {'from': 'Mike', 'to': 'Vasya', 'amount': 2000, 'prev_hash': 'd2ee03e02e'},\n",
              " {'from': 'Mike', 'to': 'Petya', 'amount': 14, 'prev_hash': '10745ee83b'},\n",
              " {'from': 'Mike', 'to': 'Kolya', 'amount': 88, 'prev_hash': 'afd87d2c1d'},\n",
              " {'from': 'Mike', 'to': 'Nastya', 'amount': 69420, 'prev_hash': '21f9ddc78c'}]"
            ]
          },
          "metadata": {},
          "execution_count": 21
        }
      ]
    },
    {
      "cell_type": "code",
      "source": [
        "addNewBlock(\"Vasya\", \"Petya\", 1000)\n",
        "addNewBlock(\"Petya\", \"Nastya\", 500)\n",
        "addNewBlock(\"Petya\", \"Kolya\", 500)\n",
        "\n",
        "blockchain"
      ],
      "metadata": {
        "colab": {
          "base_uri": "https://localhost:8080/"
        },
        "id": "abUGB9Ui8bDV",
        "outputId": "f3f8aac4-05c4-4745-936f-61257a5aa95f"
      },
      "execution_count": 22,
      "outputs": [
        {
          "output_type": "execute_result",
          "data": {
            "text/plain": [
              "[{'from': '', 'to': '', 'amount': 0.0},\n",
              " {'from': 'Mike', 'to': 'Vasya', 'amount': 2000, 'prev_hash': 'd2ee03e02e'},\n",
              " {'from': 'Mike', 'to': 'Petya', 'amount': 14, 'prev_hash': '10745ee83b'},\n",
              " {'from': 'Mike', 'to': 'Kolya', 'amount': 88, 'prev_hash': 'afd87d2c1d'},\n",
              " {'from': 'Mike', 'to': 'Nastya', 'amount': 69420, 'prev_hash': '21f9ddc78c'},\n",
              " {'from': 'Vasya', 'to': 'Petya', 'amount': 1000, 'prev_hash': 'ec094fdc09'},\n",
              " {'from': 'Petya', 'to': 'Nastya', 'amount': 500, 'prev_hash': 'b8e39ecb6a'},\n",
              " {'from': 'Petya', 'to': 'Kolya', 'amount': 500, 'prev_hash': '1f113ab6ee'}]"
            ]
          },
          "metadata": {},
          "execution_count": 22
        }
      ]
    },
    {
      "cell_type": "code",
      "source": [
        "def validBlockchain():\n",
        "  prev_block = None\n",
        "\n",
        "  for block in blockchain:\n",
        "    if prev_block:\n",
        "      # сверить хэши начиная со второго блока\n",
        "      calculatedPrevHash = dataToHash(prev_block) # считаем хэш предыдущего блока\n",
        "      readPrevHash = block[\"prev_hash\"] # смотрим на записанный в текущем блоке\n",
        "      if calculatedPrevHash == readPrevHash:\n",
        "        print(f\"Same! {calculatedPrevHash} vs {readPrevHash}\")\n",
        "      else:\n",
        "        print(f\"Error in block block! {calculatedPrevHash} vs {readPrevHash}\")\n",
        "    prev_block = block\n",
        "\n",
        "validBlockchain()"
      ],
      "metadata": {
        "colab": {
          "base_uri": "https://localhost:8080/"
        },
        "id": "2oY5TBNF9efm",
        "outputId": "2c8d873f-0e89-4365-8b77-e4472e2e94ba"
      },
      "execution_count": 23,
      "outputs": [
        {
          "output_type": "stream",
          "name": "stdout",
          "text": [
            "Same! d2ee03e02e vs d2ee03e02e\n",
            "Same! 10745ee83b vs 10745ee83b\n",
            "Same! afd87d2c1d vs afd87d2c1d\n",
            "Same! 21f9ddc78c vs 21f9ddc78c\n",
            "Same! ec094fdc09 vs ec094fdc09\n",
            "Same! b8e39ecb6a vs b8e39ecb6a\n",
            "Same! 1f113ab6ee vs 1f113ab6ee\n"
          ]
        }
      ]
    },
    {
      "cell_type": "code",
      "source": [
        "# blockchain[5][\"amount\"] = 99999\n",
        "# validBlockchain()"
      ],
      "metadata": {
        "id": "IFr3q5D8A5-q"
      },
      "execution_count": 24,
      "outputs": []
    },
    {
      "cell_type": "code",
      "source": [
        "# %%time\n",
        "\n",
        "# blockId = 5\n",
        "# amount = blockchain[blockId][\"amount\"]\n",
        "# expected_hash = blockchain[blockId+1][\"prev_hash\"]\n",
        "# new_hash = \"\"\n",
        "\n",
        "# while new_hash != expected_hash:\n",
        "#   amount += 1\n",
        "#   blockchain[blockId][\"amount\"] = amount\n",
        "#   new_hash = dataToHash(blockchain[blockId])\n",
        "\n",
        "# print(f\"New amount = {amount}\")\n",
        "# validBlockchain()\n",
        "# blockchain"
      ],
      "metadata": {
        "id": "wm7NAh27B4Xh"
      },
      "execution_count": 28,
      "outputs": []
    },
    {
      "cell_type": "code",
      "source": [
        "# %%time\n",
        "# for amount in range(1000, 999999):\n",
        "#   blockchain[blockId][\"amount\"] = amount\n",
        "#   new_hash = dataToHash(blockchain[blockId])\n",
        "#   if new_hash == expected_hash:\n",
        "#     print(amount)"
      ],
      "metadata": {
        "id": "lTjirtggEzb-"
      },
      "execution_count": 29,
      "outputs": []
    },
    {
      "cell_type": "code",
      "source": [
        "# blockchain[blockId][\"amount\"] = 979016\n",
        "# validBlockchain()"
      ],
      "metadata": {
        "colab": {
          "base_uri": "https://localhost:8080/"
        },
        "id": "oKeEEJlzFYcB",
        "outputId": "605d2c6a-3767-40b6-9953-3d44fcb1522e"
      },
      "execution_count": 30,
      "outputs": [
        {
          "output_type": "stream",
          "name": "stdout",
          "text": [
            "Same! d2ee03e02e vs d2ee03e02e\n",
            "Same! 10745ee83b vs 10745ee83b\n",
            "Same! afd87d2c1d vs afd87d2c1d\n",
            "Same! 21f9ddc78c vs 21f9ddc78c\n",
            "Same! ec094fdc09 vs ec094fdc09\n",
            "Error in block block! b47044a56d vs b8e39ecb6a\n",
            "Same! 1f113ab6ee vs 1f113ab6ee\n"
          ]
        }
      ]
    },
    {
      "cell_type": "code",
      "source": [
        "# proof = proof of work (hash starts with 00)\n",
        "def isPoW(block, proof): # is block Proof of Work positive\n",
        "  block_copy = block.copy()\n",
        "  block_copy[\"proof\"] = proof\n",
        "  new_hash = dataToHash(block_copy)\n",
        "  isPoW = new_hash[0:2] == \"00\"\n",
        "  if isPoW:\n",
        "    print(new_hash)\n",
        "  return isPoW # returns True if hash starts with 00\n",
        "\n",
        "def mineProofOfWork(block):\n",
        "  proof = 0\n",
        "  while not isPoW(block, proof):\n",
        "    proof += 1\n",
        "  return proof # returns PoW hash"
      ],
      "metadata": {
        "id": "qLII7QE7JfBQ"
      },
      "execution_count": 33,
      "outputs": []
    },
    {
      "cell_type": "code",
      "source": [
        "mineProofOfWork(blockchain[5])"
      ],
      "metadata": {
        "colab": {
          "base_uri": "https://localhost:8080/"
        },
        "id": "5_KXgDHykvQ8",
        "outputId": "e6df9cc0-2651-4f63-f584-89766510a5cd"
      },
      "execution_count": 34,
      "outputs": [
        {
          "output_type": "stream",
          "name": "stdout",
          "text": [
            "00e4373b7d\n"
          ]
        },
        {
          "output_type": "execute_result",
          "data": {
            "text/plain": [
              "265"
            ]
          },
          "metadata": {},
          "execution_count": 34
        }
      ]
    }
  ]
}